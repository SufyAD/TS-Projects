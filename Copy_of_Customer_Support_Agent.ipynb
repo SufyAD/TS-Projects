{
  "nbformat": 4,
  "nbformat_minor": 0,
  "metadata": {
    "colab": {
      "provenance": [],
      "authorship_tag": "ABX9TyPtiCViCVuY7aOsKL6qevgc",
      "include_colab_link": true
    },
    "kernelspec": {
      "name": "python3",
      "display_name": "Python 3"
    },
    "language_info": {
      "name": "python"
    }
  },
  "cells": [
    {
      "cell_type": "markdown",
      "metadata": {
        "id": "view-in-github",
        "colab_type": "text"
      },
      "source": [
        "<a href=\"https://colab.research.google.com/github/SufyAD/TS-Projects/blob/master/Copy_of_Customer_Support_Agent.ipynb\" target=\"_parent\"><img src=\"https://colab.research.google.com/assets/colab-badge.svg\" alt=\"Open In Colab\"/></a>"
      ]
    },
    {
      "cell_type": "code",
      "source": [
        "%%capture --no-stderr\n",
        "%pip install -qU langgraph langchain-community langchain_google_genai langchain_core langgraph-checkpoint-sqlite"
      ],
      "metadata": {
        "id": "3jbBgM1zmW5r"
      },
      "execution_count": null,
      "outputs": []
    },
    {
      "cell_type": "code",
      "execution_count": null,
      "metadata": {
        "id": "ZVYbnm70mTaK"
      },
      "outputs": [],
      "source": [
        "import getpass\n",
        "import os\n",
        "\n",
        "\n",
        "def _set_env(var: str):\n",
        "    if not os.environ.get(var):\n",
        "        os.environ[var] = getpass.getpass(f\"{var}: \")\n",
        "\n",
        "\n",
        "# _set_env(\"GEMINI_API_KEY\")\n",
        "# _set_env(\"LANGCHAIN_API_KEY\")"
      ]
    },
    {
      "cell_type": "markdown",
      "source": [
        "### Populate database (Optional)\n",
        "Populating our database with some dummydata to perform different operations such as `get_order_status`, `cancel_order`, `update_order`"
      ],
      "metadata": {
        "id": "nIMyHIYTmbhz"
      }
    },
    {
      "cell_type": "code",
      "source": [
        "!mkdir -p state_db && [ ! -f state_db/example.db ] && wget -P state_db https://github.com/langchain-ai/langchain-academy/raw/main/module-2/state_db/example.db"
      ],
      "metadata": {
        "id": "he9_qYbnWrIr",
        "colab": {
          "base_uri": "https://localhost:8080/"
        },
        "outputId": "d97f25c7-a0c4-4feb-cc70-7c91e1759b30"
      },
      "execution_count": null,
      "outputs": [
        {
          "output_type": "stream",
          "name": "stdout",
          "text": [
            "--2024-12-25 10:06:46--  https://github.com/langchain-ai/langchain-academy/raw/main/module-2/state_db/example.db\n",
            "Resolving github.com (github.com)... 140.82.113.4\n",
            "Connecting to github.com (github.com)|140.82.113.4|:443... connected.\n",
            "HTTP request sent, awaiting response... 302 Found\n",
            "Location: https://raw.githubusercontent.com/langchain-ai/langchain-academy/main/module-2/state_db/example.db [following]\n",
            "--2024-12-25 10:06:46--  https://raw.githubusercontent.com/langchain-ai/langchain-academy/main/module-2/state_db/example.db\n",
            "Resolving raw.githubusercontent.com (raw.githubusercontent.com)... 185.199.108.133, 185.199.111.133, 185.199.110.133, ...\n",
            "Connecting to raw.githubusercontent.com (raw.githubusercontent.com)|185.199.108.133|:443... connected.\n",
            "HTTP request sent, awaiting response... 200 OK\n",
            "Length: 110592 (108K) [application/octet-stream]\n",
            "Saving to: ‘state_db/example.db’\n",
            "\n",
            "example.db          100%[===================>] 108.00K  --.-KB/s    in 0.02s   \n",
            "\n",
            "2024-12-25 10:06:46 (4.43 MB/s) - ‘state_db/example.db’ saved [110592/110592]\n",
            "\n"
          ]
        }
      ]
    },
    {
      "cell_type": "code",
      "source": [
        "# -------------------- Dummy Order ----------------------\n",
        "\n",
        "from langchain.tools import tool\n",
        "from typing_extensions import TypedDict\n",
        "order_json: TypedDict = {\n",
        "  \"orders\": [\n",
        "      {\n",
        "          \"order_id\": \"12345\",\n",
        "          \"status\": \"Processing\",\n",
        "          \"expected_delivery\": \"2024-12-23\",\n",
        "          \"items\": [\n",
        "              {\"name\": \"Wireless Headphones\", \"category\": \"Audio\", \"price\": 15000, \"quantity\": 1},\n",
        "              {\"name\": \"Smart Watch\", \"category\": \"Wearables\", \"price\": 12000, \"quantity\": 1}\n",
        "          ]\n",
        "      },\n",
        "      {\n",
        "          \"order_id\": \"67890\",\n",
        "          \"status\": \"Shipped\",\n",
        "          \"expected_delivery\": \"2024-12-25\",\n",
        "          \"items\": [\n",
        "              {\"name\": \"Gaming Mouse\", \"category\": \"Accessories\", \"price\": 7000, \"quantity\": 1},\n",
        "              {\"name\": \"Mechanical Keyboard\", \"category\": \"Accessories\", \"price\": 10000, \"quantity\": 1}\n",
        "          ]\n",
        "      },\n",
        "      {\n",
        "          \"order_id\": \"11223\",\n",
        "          \"status\": \"Delivered\",\n",
        "          \"expected_delivery\": \"2024-12-20\",\n",
        "          \"items\": [\n",
        "              {\"name\": \"Portable Speaker\", \"category\": \"Audio\", \"price\": 8000, \"quantity\": 1},\n",
        "              {\"name\": \"Smartphone Stand\", \"category\": \"Accessories\", \"price\": 2000, \"quantity\": 2},\n",
        "              {\"name\": \"USB-C Hub\", \"category\": \"Connectivity\", \"price\": 3000, \"quantity\": 1}\n",
        "          ]\n",
        "      }\n",
        "  ]\n",
        "}"
      ],
      "metadata": {
        "id": "vy88LxL8n3PC"
      },
      "execution_count": null,
      "outputs": []
    },
    {
      "cell_type": "code",
      "source": [
        "#----------------------- Products in DB -----------------------\n",
        "products = [\n",
        "    {\"name\": \"Wireless Headphones\", \"category\": \"Audio\", \"price\": 15000, \"stock\": 10},\n",
        "    {\"name\": \"Smart Watch\", \"category\": \"Wearables\", \"price\": 12000, \"stock\": 100},\n",
        "    {\"name\": \"Gaming Mouse\", \"category\": \"Accessories\", \"price\": 5000, \"stock\": 50},\n",
        "    {\"name\": \"Mechanical Keyboard\", \"category\": \"Accessories\", \"price\": 8000, \"stock\": 30},\n",
        "    {\"name\": \"Portable Power Bank\", \"category\": \"Energy\", \"price\": 4000, \"stock\": 200},\n",
        "    {\"name\": \"Bluetooth Speaker\", \"category\": \"Audio\", \"price\": 6000, \"stock\": 40},\n",
        "    {\"name\": \"Smart Glasses\", \"category\": \"Wearables\", \"price\": 18000, \"stock\": 15},\n",
        "    {\"name\": \"Fitness Tracker\", \"category\": \"Wearables\", \"price\": 7000, \"stock\": 80},\n",
        "    {\"name\": \"Drone with Camera\", \"category\": \"Drones\", \"price\": 25000, \"stock\": 10},\n",
        "    {\"name\": \"4K Action Camera\", \"category\": \"Photography\", \"price\": 15000, \"stock\": 25},\n",
        "    {\"name\": \"VR Headset\", \"category\": \"Gaming\", \"price\": 22000, \"stock\": 20},\n",
        "]"
      ],
      "metadata": {
        "id": "O-EMG0d-sfHF"
      },
      "execution_count": null,
      "outputs": []
    },
    {
      "cell_type": "code",
      "source": [
        "import sqlite3\n",
        "db_path = \"state_db/example.db\"\n",
        "conn = sqlite3.connect(db_path, check_same_thread=False) #conn is basically enables us to connect with our SQLite3 database otherwise we could not setup\n",
        "cursor = conn.cursor()"
      ],
      "metadata": {
        "id": "fCg76vjAWsfP"
      },
      "execution_count": null,
      "outputs": []
    },
    {
      "cell_type": "code",
      "source": [
        "cursor.execute(\n",
        "    \"\"\"\n",
        "    CREATE TABLE IF NOT EXISTS products (\n",
        "        name TEXT PRIMARY KEY,\n",
        "        category TEXT,\n",
        "        price INTEGER,\n",
        "        stock INTEGER\n",
        "    )\n",
        "    \"\"\"\n",
        ")\n",
        "for product in products:\n",
        "    cursor.execute(\"\"\"\n",
        "    INSERT OR REPLACE INTO products (name, category, price, stock)\n",
        "    VALUES (?, ?, ?, ?)\n",
        "    \"\"\",(product[\"name\"].lower(), product[\"category\"], product[\"price\"], product[\"stock\"]))\n",
        "\n",
        "    conn.commit()"
      ],
      "metadata": {
        "id": "kdTWDFaCs5PE"
      },
      "execution_count": null,
      "outputs": []
    },
    {
      "cell_type": "code",
      "source": [
        "cursor.execute(\"SELECT * FROM products\")\n",
        "rows = cursor.fetchall()\n",
        "for row in rows:\n",
        "    print(row)"
      ],
      "metadata": {
        "colab": {
          "base_uri": "https://localhost:8080/"
        },
        "id": "9OkHzBfLt-wP",
        "outputId": "3d707eef-07f6-4bb6-8350-e40eaf776cab"
      },
      "execution_count": null,
      "outputs": [
        {
          "output_type": "stream",
          "name": "stdout",
          "text": [
            "('wireless headphones', 'Audio', 15000, 10)\n",
            "('smart watch', 'Wearables', 12000, 100)\n",
            "('gaming mouse', 'Accessories', 5000, 50)\n",
            "('mechanical keyboard', 'Accessories', 8000, 30)\n",
            "('portable power bank', 'Energy', 4000, 200)\n",
            "('bluetooth speaker', 'Audio', 6000, 40)\n",
            "('smart glasses', 'Wearables', 18000, 15)\n",
            "('fitness tracker', 'Wearables', 7000, 80)\n",
            "('drone with camera', 'Drones', 25000, 10)\n",
            "('4k action camera', 'Photography', 15000, 25)\n",
            "('vr headset', 'Gaming', 22000, 20)\n"
          ]
        }
      ]
    },
    {
      "cell_type": "code",
      "source": [
        "from langgraph.checkpoint.sqlite import SqliteSaver\n",
        "memory: SqliteSaver = SqliteSaver(conn)"
      ],
      "metadata": {
        "id": "rd9HWukjW_P-"
      },
      "execution_count": null,
      "outputs": []
    },
    {
      "cell_type": "code",
      "source": [
        "# #Cleaing DB\n",
        "cursor = conn.cursor()\n",
        "# cursor.execute(\"DELETE FROM order_items\")\n",
        "# cursor.execute(\"DELETE FROM orders\")\n",
        "\n",
        "# # Optionally, you can reset the autoincrement if needed:\n",
        "# # cursor.execute(\"DELETE FROM sqlite_sequence WHERE name='orders'\")\n",
        "# # cursor.execute(\"DELETE FROM sqlite_sequence WHERE name='order_items'\")\n",
        "\n",
        "# # Commit the changes and close the connection\n",
        "# conn.commit()\n",
        "# cursor.close()\n",
        "# conn.close()\n",
        "\n",
        "# print(\"Database cleaned and ready for new data.\")"
      ],
      "metadata": {
        "id": "zy4oPYcsdyzb"
      },
      "execution_count": null,
      "outputs": []
    },
    {
      "cell_type": "code",
      "source": [
        "#creating tables if doesn't exist\n",
        "cursor.execute(\"\"\"\n",
        "    CREATE TABLE IF NOT EXISTS orders (\n",
        "        order_id TEXT PRIMARY KEY,\n",
        "        status TEXT,\n",
        "        expected_delivery TEXT\n",
        "    )\n",
        "    \"\"\")\n",
        "\n",
        "cursor.execute(\"\"\"\n",
        "    CREATE TABLE IF NOT EXISTS order_items (\n",
        "        order_id TEXT,\n",
        "        name TEXT,\n",
        "        category TEXT,\n",
        "        price INTEGER,\n",
        "        quantity INTEGER,\n",
        "        FOREIGN KEY (order_id) REFERENCES orders(order_id)\n",
        "    )\n",
        "\"\"\")\n",
        "\n",
        "# Populating data in the database\n",
        "for order in order_json[\"orders\"]:\n",
        "    cursor.execute(\"\"\"\n",
        "    INSERT OR REPLACE INTO orders (order_id, status, expected_delivery)\n",
        "    VALUES (?, ?, ?)\n",
        "    \"\"\", (order[\"order_id\"], order[\"status\"], order[\"expected_delivery\"]))\n",
        "\n",
        "    # Now iterate over the items for each order and insert them into the order_items table\n",
        "    for item in order[\"items\"]:\n",
        "        cursor.execute(\"\"\"\n",
        "        INSERT OR REPLACE INTO order_items (order_id, name, category, price, quantity)\n",
        "        VALUES (?, ?, ?, ?, ?)\n",
        "        \"\"\", (order[\"order_id\"], item[\"name\"].lower(), item[\"category\"], item[\"price\"], item[\"quantity\"]))\n",
        "\n",
        "conn.commit()"
      ],
      "metadata": {
        "id": "tToaG8X6YnpH"
      },
      "execution_count": null,
      "outputs": []
    },
    {
      "cell_type": "code",
      "source": [
        "cursor.execute(\"\"\"\n",
        "  SELECT * FROM orders\n",
        "\"\"\")\n",
        "orders = cursor.fetchall()\n",
        "\n",
        "cursor.execute(\"SELECT * FROM order_items\")\n",
        "order_items = cursor.fetchall()"
      ],
      "metadata": {
        "id": "ijzuVC2BbvWC"
      },
      "execution_count": null,
      "outputs": []
    },
    {
      "cell_type": "code",
      "source": [
        "# Print the data\n",
        "print(\"Orders:\")\n",
        "for order in orders:\n",
        "    print(order)\n",
        "\n",
        "print(\"\\nOrder Items:\")\n",
        "for item in order_items:\n",
        "    print(item)"
      ],
      "metadata": {
        "colab": {
          "base_uri": "https://localhost:8080/"
        },
        "id": "3nNcY3lLU9pd",
        "outputId": "372b719e-ff89-496a-8b1a-ab7aeb623cc7"
      },
      "execution_count": null,
      "outputs": [
        {
          "output_type": "stream",
          "name": "stdout",
          "text": [
            "Orders:\n",
            "('12345', 'Processing', '2024-12-23')\n",
            "('67890', 'Shipped', '2024-12-25')\n",
            "('11223', 'Delivered', '2024-12-20')\n",
            "('823', 'Processing', '2024-12-31')\n",
            "\n",
            "Order Items:\n",
            "('12345', 'Wireless Headphones', 'Audio', 15000, 1)\n",
            "('12345', 'Smart Watch', 'Wearables', 12000, 1)\n",
            "('67890', 'Gaming Mouse', 'Accessories', 7000, 1)\n",
            "('67890', 'Mechanical Keyboard', 'Accessories', 10000, 1)\n",
            "('11223', 'Portable Speaker', 'Audio', 8000, 1)\n",
            "('11223', 'Smartphone Stand', 'Accessories', 2000, 2)\n",
            "('11223', 'USB-C Hub', 'Connectivity', 3000, 1)\n",
            "('823', 'gaming mouse', 'Accessories', 5000, 1)\n"
          ]
        }
      ]
    },
    {
      "cell_type": "code",
      "source": [
        "conn.commit()\n",
        "cursor.close()"
      ],
      "metadata": {
        "id": "e0uOUdT_a8Ac"
      },
      "execution_count": null,
      "outputs": []
    },
    {
      "cell_type": "markdown",
      "source": [
        "**Tools**\n",
        "Next, define our assistant's `tools`"
      ],
      "metadata": {
        "id": "FfnD_V2smuyy"
      }
    },
    {
      "cell_type": "code",
      "source": [
        "from langchain_google_genai import ChatGoogleGenerativeAI\n",
        "from langchain_core.tools import tool\n",
        "from IPython.display import Image, display\n",
        "\n",
        "from langgraph.checkpoint.memory import MemorySaver\n",
        "from langgraph.graph import MessagesState\n",
        "from langgraph.graph import START, StateGraph\n",
        "from langgraph.prebuilt import tools_condition, ToolNode\n",
        "from langgraph.graph.state import CompiledStateGraph\n",
        "\n",
        "from langchain_core.messages import HumanMessage, SystemMessage\n",
        "\n",
        "from typing_extensions import TypedDict"
      ],
      "metadata": {
        "id": "GsTMW-vynYRo"
      },
      "execution_count": null,
      "outputs": []
    },
    {
      "cell_type": "code",
      "source": [
        "from google.colab import userdata\n",
        "llm = ChatGoogleGenerativeAI(model=\"gemini-1.5-flash\", api_key=userdata.get(\"GEMINI_API_KEY\"))\n",
        "# llm_with_tools = llm.bind_tools(tools) # to be added"
      ],
      "metadata": {
        "id": "7GJpDgR12kdc"
      },
      "execution_count": null,
      "outputs": []
    },
    {
      "cell_type": "code",
      "source": [
        "llm.invoke(\"Hello\")"
      ],
      "metadata": {
        "colab": {
          "base_uri": "https://localhost:8080/"
        },
        "id": "MCeU3-asQiVn",
        "outputId": "1f7f5fea-291d-45a1-964f-9d9812dd2217"
      },
      "execution_count": null,
      "outputs": [
        {
          "output_type": "execute_result",
          "data": {
            "text/plain": [
              "AIMessage(content='Hello there! How can I help you today?\\n', additional_kwargs={}, response_metadata={'prompt_feedback': {'block_reason': 0, 'safety_ratings': []}, 'finish_reason': 'STOP', 'safety_ratings': []}, id='run-d5776f5b-c6ef-4790-b62b-4d02da10db5a-0', usage_metadata={'input_tokens': 2, 'output_tokens': 11, 'total_tokens': 13, 'input_token_details': {'cache_read': 0}})"
            ]
          },
          "metadata": {},
          "execution_count": 16
        }
      ]
    },
    {
      "cell_type": "code",
      "source": [
        "from datetime import datetime, timedelta\n",
        "from pydantic import BaseModel\n",
        "from typing import Optional\n",
        "\n",
        "class OrderState(TypedDict): #to handle order udpates\n",
        "    order_id: str\n",
        "    status: str\n",
        "    expected_delivery: str\n",
        "\n",
        "class State(MessagesState):\n",
        "    orders_json: dict[str, list[OrderState]]"
      ],
      "metadata": {
        "id": "LIyrYbwbwNih"
      },
      "execution_count": null,
      "outputs": []
    },
    {
      "cell_type": "code",
      "source": [
        "from time import time\n",
        "from random import randint\n",
        "\n",
        "def get_user_input() -> dict:\n",
        "    while True:\n",
        "        try:\n",
        "            product_name = input(\"Enter the product name: \").strip().lower()  # Ensuring lowercase for matching\n",
        "            quantity = int(input(\"Enter the quantity: \").strip())\n",
        "\n",
        "            if quantity <= 0:\n",
        "                raise ValueError(\"Quantity must be a positive integer.\")\n",
        "\n",
        "            return {\"product_name\": product_name, \"quantity\": quantity}\n",
        "        except ValueError as e:\n",
        "            print(f\"Error: {e}\")\n",
        "\n",
        "\n",
        "# Function to match product from the database\n",
        "def match_product(db_path: str, product_name: str, quantity: int) -> dict:\n",
        "    query = \"\"\"\n",
        "        SELECT name, category, price, stock\n",
        "        FROM products\n",
        "        WHERE name = ?\n",
        "    \"\"\"\n",
        "    with sqlite3.connect(db_path) as conn:\n",
        "        cursor = conn.cursor()\n",
        "        cursor.execute(query, (product_name,))\n",
        "        product = cursor.fetchone()\n",
        "\n",
        "        if not product:\n",
        "            raise ValueError(f\"Product '{product_name}' not found in the database.\")\n",
        "\n",
        "        name, category, price, stock = product\n",
        "\n",
        "        if quantity > stock:\n",
        "            raise ValueError(f\"Insufficient stock for '{name}'. Available: {stock}\")\n",
        "\n",
        "        return {\n",
        "            \"name\": name,\n",
        "            \"category\": category,\n",
        "            \"price\": price,\n",
        "            \"quantity\": quantity\n",
        "        }"
      ],
      "metadata": {
        "id": "O1d8kXTD2ELA"
      },
      "execution_count": null,
      "outputs": []
    },
    {
      "cell_type": "code",
      "source": [
        "# Function to create an order\n",
        "def create_order(db_path: str, matched_product: dict) -> dict:\n",
        "\n",
        "    order_id = randint(100, 999)\n",
        "    expected_delivery = \"2024-12-31\"  # Example date logic\n",
        "\n",
        "    with sqlite3.connect(db_path) as conn:\n",
        "        cursor = conn.cursor()\n",
        "\n",
        "        # Insert into orders table\n",
        "        query = \"\"\"\n",
        "        INSERT INTO orders (order_id, status, expected_delivery)\n",
        "        VALUES (?, ?, ?)\n",
        "        \"\"\"\n",
        "        cursor.execute(query, (order_id, \"Processing\", expected_delivery)) #for every new order we'll pass status as PROCESSING\n",
        "\n",
        "        # Insert into order_items table\n",
        "        query_item = \"\"\"\n",
        "        INSERT INTO order_items (order_id, name, category, price, quantity)\n",
        "        VALUES (?, ?, ?, ?, ?)\n",
        "        \"\"\"\n",
        "        cursor.execute(query_item, (\n",
        "            order_id,\n",
        "            matched_product[\"name\"],\n",
        "            matched_product[\"category\"],\n",
        "            matched_product[\"price\"],\n",
        "            matched_product[\"quantity\"]\n",
        "        ))\n",
        "\n",
        "        # Update stock in products table\n",
        "        query_stock_update = \"\"\"\n",
        "            UPDATE products SET stock = stock - ? WHERE name = ?\n",
        "        \"\"\"\n",
        "        cursor.execute(query_stock_update, (matched_product[\"quantity\"], matched_product[\"name\"]))\n",
        "        conn.commit()\n",
        "\n",
        "    return {\n",
        "        \"order_id\": order_id,\n",
        "        \"status\": \"Processing\",\n",
        "        \"expected_delivery\": expected_delivery,\n",
        "        \"items\": [matched_product],\n",
        "    }"
      ],
      "metadata": {
        "id": "j12G-wJsXTih"
      },
      "execution_count": null,
      "outputs": []
    },
    {
      "cell_type": "code",
      "source": [
        "@tool\n",
        "def process_order(db_path: str) -> dict:\n",
        "    \"\"\"Handles product order creation, checking stock, and updating the database.\"\"\"\n",
        "    try:\n",
        "        # Get user input for product and quantity\n",
        "        user_input = get_user_input()\n",
        "\n",
        "        # Match product from the database\n",
        "        matched_product = match_product(db_path, user_input[\"product_name\"], user_input[\"quantity\"])\n",
        "\n",
        "        # Create the order in the database\n",
        "        order_details = create_order(db_path, matched_product)\n",
        "\n",
        "        return order_details\n",
        "    except ValueError as e:\n",
        "        return {\"error\": str(e)}"
      ],
      "metadata": {
        "id": "vdbynXxNn9bM"
      },
      "execution_count": null,
      "outputs": []
    },
    {
      "cell_type": "code",
      "source": [
        "result = process_order(\"state_db/example.db\")\n",
        "print(result)"
      ],
      "metadata": {
        "colab": {
          "base_uri": "https://localhost:8080/"
        },
        "id": "CSMtQe5wYSZ5",
        "outputId": "db6072e6-517f-4ab1-d732-6d18a81e0e2c"
      },
      "execution_count": null,
      "outputs": [
        {
          "output_type": "stream",
          "name": "stdout",
          "text": [
            "Enter the product name: gaming mouse\n",
            "Enter the quantity: 1\n",
            "{'order_id': 823, 'status': 'Processing', 'expected_delivery': '2024-12-31', 'items': [{'name': 'gaming mouse', 'category': 'Accessories', 'price': 5000, 'quantity': 1}]}\n"
          ]
        }
      ]
    },
    {
      "cell_type": "code",
      "source": [
        "# try:\n",
        "#   user_input = get_user_input()\n",
        "#   matched_product = match_product_in_database(user_input[\"product_name\"], user_input[\"quantity\"])\n",
        "#   order = create_order(user_input, matched_product)\n",
        "#   print(f\"Order successfully created: {order}\")\n",
        "# except Exception as e:\n",
        "#   print(f\"Error: {e}\")"
      ],
      "metadata": {
        "colab": {
          "base_uri": "https://localhost:8080/"
        },
        "id": "ZJlA7Xx-uPrK",
        "outputId": "fa82e255-814d-4d3b-c589-e927c6930d91"
      },
      "execution_count": null,
      "outputs": [
        {
          "output_type": "stream",
          "name": "stdout",
          "text": [
            "Error: name 'get_user_input' is not defined\n"
          ]
        }
      ]
    },
    {
      "cell_type": "code",
      "source": [
        "from langchain_core.runnables import RunnableConfig\n",
        "\n",
        "@tool\n",
        "def get_order_status(config: RunnableConfig) -> list[dict]:\n",
        "    \"\"\"\n",
        "    Retrieves the status of an order based on its unique order ID.\n",
        "\n",
        "    Args:\n",
        "        config (RunnableConfig): Contains configuration for the order ID.\n",
        "\n",
        "    Returns:\n",
        "        List[Dict]: A list of dictionaries with order details, including:\n",
        "            - `order_id` (str): The unique ID of the order.\n",
        "            - `status` (str): The current status of the order (e.g., \"Processing\", \"Shipped\").\n",
        "            - `expected_delivery` (str): The expected delivery date of the order (optional).\n",
        "            - `items` (list of dict): The items related to the order.\n",
        "    \"\"\"\n",
        "    # Get order_id from the config\n",
        "    configuration = config.get(\"configurable\", {})\n",
        "    order_id = configuration.get(\"order_id\", None)\n",
        "\n",
        "    if not order_id:\n",
        "        raise ValueError(\"order_id is required\")\n",
        "\n",
        "    # Connect to the SQLite database\n",
        "    conn = sqlite3.connect(db_path)\n",
        "    cursor = conn.cursor()\n",
        "\n",
        "    # Update SQL query to correctly join orders and order_items tables\n",
        "    query = \"\"\"\n",
        "    SELECT\n",
        "        orders.order_id,\n",
        "        orders.status,\n",
        "        orders.expected_delivery,\n",
        "        order_items.name,\n",
        "        order_items.category,\n",
        "        order_items.price,\n",
        "        order_items.quantity\n",
        "    FROM\n",
        "        orders\n",
        "    JOIN\n",
        "        order_items ON orders.order_id = order_items.order_id\n",
        "    WHERE\n",
        "        orders.order_id = ?\n",
        "    \"\"\"\n",
        "    cursor.execute(query, (order_id,))\n",
        "    rows = cursor.fetchall()\n",
        "\n",
        "    # Create a list of dictionaries for the rows retrieved from the database\n",
        "    column_names = [column[0] for column in cursor.description]\n",
        "    results = [dict(zip(column_names, row)) for row in rows]\n",
        "\n",
        "    cursor.close()\n",
        "    conn.close()\n",
        "\n",
        "    if not results:\n",
        "        raise ValueError(f\"Order with ID {order_id} not found\")\n",
        "\n",
        "    return results"
      ],
      "metadata": {
        "id": "KekeLiibmh9g"
      },
      "execution_count": null,
      "outputs": []
    },
    {
      "cell_type": "code",
      "source": [
        "# config = RunnableConfig(configurable={\"order_id\": \"12345\"})\n",
        "\n",
        "# # Call the function to fetch order status\n",
        "# results = get_order_status(config)\n",
        "\n",
        "# # Print the result\n",
        "# print(results)\n"
      ],
      "metadata": {
        "id": "pQr3mCRRTcLu"
      },
      "execution_count": null,
      "outputs": []
    },
    {
      "cell_type": "markdown",
      "source": [
        "### Cancelling an order\n",
        "Right now it is kept simple that a common json of orders is passed through the functions and keep updating the content of this json, later we will replace this json with our database"
      ],
      "metadata": {
        "id": "BuGSwoyxsaRk"
      }
    },
    {
      "cell_type": "code",
      "source": [
        "import sqlite3\n",
        "from langchain_core.runnables import RunnableConfig\n",
        "\n",
        "@tool\n",
        "def cancel_order(config: RunnableConfig) -> str:\n",
        "    \"\"\"\n",
        "    Cancels the order based on its unique order ID.\n",
        "\n",
        "    Args:\n",
        "        config (RunnableConfig): The config containing the order ID.\n",
        "\n",
        "    Returns:\n",
        "        str: A message indicating whether the order was successfully canceled or not.\n",
        "    \"\"\"\n",
        "    configuration = config.get(\"configurable\", {})\n",
        "    order_id = configuration.get(\"order_id\", None)\n",
        "\n",
        "    if not order_id:\n",
        "        raise ValueError(\"order_id is required\")\n",
        "\n",
        "    # Connect to SQLite database\n",
        "    conn = sqlite3.connect(db_path)\n",
        "    cursor = conn.cursor()\n",
        "\n",
        "    # Check if the order exists and get its status\n",
        "    cursor.execute(\"\"\"\n",
        "        SELECT order_id, status FROM orders WHERE order_id = ?\n",
        "    \"\"\", (order_id,))\n",
        "    order = cursor.fetchone()\n",
        "\n",
        "    if not order:\n",
        "        cursor.close()\n",
        "        conn.close()\n",
        "        return f\"Order with ID {order_id} not found.\"\n",
        "\n",
        "    # If the order status is not \"Delivered\", we cancel it\n",
        "    if order[1] != \"Delivered\":\n",
        "        cursor.execute(\"\"\"\n",
        "            DELETE FROM orders WHERE order_id = ?\n",
        "        \"\"\", (order_id,))\n",
        "        cursor.execute(\"\"\"\n",
        "            DELETE FROM order_items WHERE order_id = ?\n",
        "        \"\"\", (order_id,))\n",
        "        conn.commit()\n",
        "        cursor.close()\n",
        "        conn.close()\n",
        "        return f\"Order {order_id} has been successfully canceled.\"\n",
        "\n",
        "    cursor.close()\n",
        "    conn.close()\n",
        "    return f\"Order {order_id} cannot be canceled as it has already been {order[1]}.\"\n"
      ],
      "metadata": {
        "id": "cr-ZGWVdsXFL"
      },
      "execution_count": null,
      "outputs": []
    },
    {
      "cell_type": "code",
      "source": [
        "# config = RunnableConfig(configurable={\"order_id\": \"67890\"})\n",
        "# cancel_result = cancel_order(\"67890\", config)\n",
        "# print(cancel_result)"
      ],
      "metadata": {
        "id": "huUcSk88luZG"
      },
      "execution_count": null,
      "outputs": []
    },
    {
      "cell_type": "markdown",
      "source": [
        "### Update an Order\n",
        "Modifying the common json which will be replaced with our DB later\n"
      ],
      "metadata": {
        "id": "t4NZ3Fvyivme"
      }
    },
    {
      "cell_type": "code",
      "source": [
        "# from datetime import datetime, timedelta\n",
        "# updated_order = {\n",
        "#     \"status\": \"Updated\",\n",
        "#     \"expected_delivery\": datetime.now() + timedelta(days=3),  # current date + 3-4 days\n",
        "#     \"items\": [\n",
        "#         {\"name\": \"Smartphone Stand\", \"category\": \"Accessories\", \"price\": 2000, \"quantity\": 2},\n",
        "#     ]\n",
        "# }"
      ],
      "metadata": {
        "id": "vyHMBk05KiOX"
      },
      "execution_count": null,
      "outputs": []
    },
    {
      "cell_type": "code",
      "source": [
        "@tool\n",
        "def update_order(order_id: str, config: RunnableConfig)->OrderState:\n",
        "    \"\"\"\n",
        "    Updates an order by its unique order ID with new details provided by an LLM.\n",
        "\n",
        "    Args:\n",
        "        order_id (str): The unique identifier of the order to update.\n",
        "        order_json (dict): A dictionary containing the list of orders.\n",
        "        state (State): Application state, including LLM input and messages.\n",
        "\n",
        "    Returns:\n",
        "        dict: A dictionary containing:\n",
        "            - `message` (str): Confirmation or error message.\n",
        "            - `updated_order` (dict): Details of the updated order (if applicable).\n",
        "    \"\"\"\n",
        "\n",
        "    # updated_order = llm.invoke(state['messages'][-1])\n",
        "\n",
        "    for i, order in enumerate(order_json[\"orders\"]):\n",
        "        if order[\"order_id\"] == order_id:\n",
        "            if order[\"status\"] != \"Delivered\":\n",
        "                order[\"status\"] = updated_order[\"status\"]\n",
        "                order[\"expected_delivery\"] = (datetime.now() + timedelta(days=3)).strftime(\"%Y-%m-%d\")\n",
        "                order[\"items\"] = updated_order[\"items\"]\n",
        "\n",
        "                return {\n",
        "                    \"message\": f\"Order {order_id} has been successfully updated.\",\n",
        "                    \"updated_order\": order\n",
        "                }\n",
        "            else:\n",
        "                return {\n",
        "                    \"message\": f\"Order {order_id} has been delivered and cannot be updated.\",\n",
        "                    \"status\": order[\"status\"]\n",
        "                }"
      ],
      "metadata": {
        "id": "949YlKYPkE2q"
      },
      "execution_count": null,
      "outputs": []
    },
    {
      "cell_type": "code",
      "source": [
        "from langchain_core import tools\n",
        "tools = [get_order_status, cancel_order]\n",
        "llm_with_tools = llm.bind_tools(tools)"
      ],
      "metadata": {
        "id": "ywr13gAD3Pzg"
      },
      "execution_count": null,
      "outputs": []
    },
    {
      "cell_type": "code",
      "source": [
        "llm_with_tools.invoke(\"Hi\")"
      ],
      "metadata": {
        "id": "lCJ5bK21cUTG"
      },
      "execution_count": null,
      "outputs": []
    },
    {
      "cell_type": "code",
      "source": [
        "from google.colab import userdata\n",
        "\n",
        "def assistant(state: MessagesState):\n",
        "  \"\"\"\n",
        "  Handles the processing of conversational messages using a language model with tools.\n",
        "  \"\"\"\n",
        "  sys_msg = SystemMessage(content=\"\"\"You are a helpful Order Management Assistant,\n",
        "  you have to be always humble and positive with the user's query even if the customer loses his tone;\n",
        "  Keep the situation under control\"\"\")\n",
        "\n",
        "  return {\"messages\": [llm_with_tools.invoke([sys_msg] + state[\"messages\"])]}\n"
      ],
      "metadata": {
        "id": "-RKHKbE2qtky"
      },
      "execution_count": null,
      "outputs": []
    },
    {
      "cell_type": "code",
      "source": [
        "agent: StateGraph = StateGraph(MessagesState)\n",
        "\n",
        "agent.add_node(\"assistant\", assistant)\n",
        "agent.add_node(\"tools\", ToolNode(tools))\n",
        "\n",
        "agent.add_edge(START, \"assistant\")\n",
        "agent.add_conditional_edges(\n",
        "    \"assistant\",\n",
        "    tools_condition,\n",
        ")\n",
        "\n",
        "agent.add_edge(\"tools\", \"assistant\")\n",
        "\n",
        "agent.set_entry_point(\"assistant\")"
      ],
      "metadata": {
        "id": "VSQPks3yLvAL"
      },
      "execution_count": null,
      "outputs": []
    },
    {
      "cell_type": "markdown",
      "source": [
        "### Adding Checkpointer right now - later we will replace this with out DB\n"
      ],
      "metadata": {
        "id": "5-V-I3w4MvUc"
      }
    },
    {
      "cell_type": "code",
      "source": [
        "memory: MemorySaver = MemorySaver()\n",
        "graph: CompiledStateGraph = agent.compile(checkpointer=memory)"
      ],
      "metadata": {
        "id": "iSaIj74pMuhB"
      },
      "execution_count": null,
      "outputs": []
    },
    {
      "cell_type": "code",
      "source": [
        "display(Image(graph.get_graph(xray=True).draw_mermaid_png()))"
      ],
      "metadata": {
        "id": "abxUuO2pNATH"
      },
      "execution_count": null,
      "outputs": []
    },
    {
      "cell_type": "code",
      "source": [
        "# Input\n",
        "initial_input = {\"messages\": \"Yes Please cancel it\"}\n",
        "\n",
        "# Thread\n",
        "thread = {\"configurable\": {\n",
        "    \"thread_id\": \"3\",\n",
        "    \"order_id\" : \"12345\"}}\n",
        "\n",
        "# Run the graph until the first interruption\n",
        "for event in graph.stream(initial_input, thread, stream_mode=\"values\"):\n",
        "    event['messages'][-1].pretty_print()"
      ],
      "metadata": {
        "id": "roD_iclzNFoq"
      },
      "execution_count": null,
      "outputs": []
    },
    {
      "cell_type": "code",
      "source": [
        "# Example usage\n",
        "try:\n",
        "    updated_order = update_order(\"67890\", order_json, updated_order)\n",
        "    print(updated_order)\n",
        "except ValueError as e:\n",
        "    print(e)"
      ],
      "metadata": {
        "id": "O5l3mW9lrr3H"
      },
      "execution_count": null,
      "outputs": []
    }
  ]
}